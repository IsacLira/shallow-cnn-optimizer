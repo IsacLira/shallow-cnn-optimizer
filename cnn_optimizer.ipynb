{
 "cells": [
  {
   "cell_type": "code",
   "execution_count": 32,
   "id": "86625659-83d8-4537-8e63-1bd7aa814b16",
   "metadata": {
    "tags": []
   },
   "outputs": [],
   "source": [
    "import torch\n",
    "import torch.nn as nn\n",
    "import torch.utils.data as data\n",
    "from torchvision.transforms import Normalize\n",
    "from ax import optimize\n",
    "from ax.utils.notebook.plotting import render, init_notebook_plotting\n",
    "import torch.nn as nn\n",
    "import logging\n",
    "\n",
    "\n",
    "\n",
    "class CNNTrainer:\n",
    "    def __init__(self, train_data, val_data=None, batch_size=64, model=None):\n",
    "        self.model = model\n",
    "        # Load the training data\n",
    "        self.train_loader = data.DataLoader(train_data, batch_size=batch_size, shuffle=True)\n",
    "        if val_data: \n",
    "            self.val_loader = data.DataLoader(train_data, batch_size=batch_size)\n",
    "            \n",
    "    def compute_input_size(self, params):\n",
    "        # Add BatchNorm2d layer to standardize input data\n",
    "        x = nn.BatchNorm2d(3)(torch.zeros([1,3,32,32]))\n",
    "        pool1 = eval(params.get(\"pool1\"))\n",
    "        pool2 = eval(params.get(\"pool2\"))        \n",
    "        # Pass the input through the sequence of layers\n",
    "        for layer in [\n",
    "                nn.Conv2d(in_channels=3, \n",
    "                          out_channels=params.get('num_filters1'), \n",
    "                          kernel_size=params.get('filter_size1')),\n",
    "                nn.ReLU(),\n",
    "                pool1(kernel_size=params.get(\"kernel_pool1\")),\n",
    "                nn.Conv2d(in_channels=params.get('num_filters1'),\n",
    "                          out_channels=params.get('num_filters2'),\n",
    "                          kernel_size=params.get('filter_size2')),\n",
    "                nn.ReLU(),\n",
    "                pool2(kernel_size=params.get(\"kernel_pool2\")),\n",
    "                nn.Conv2d(in_channels=params.get('num_filters2'),\n",
    "                          out_channels=params.get('num_filters3'),\n",
    "                          kernel_size=params.get('filter_size3')),\n",
    "                nn.ReLU(),\n",
    "                nn.Flatten()]:\n",
    "            x = layer(x)\n",
    "        input_size = x.shape[0] * x.shape[1]\n",
    "        return input_size\n",
    "\n",
    "    def build_model(self, params):\n",
    "        linear_input = self.compute_input_size(params) \n",
    "        # Define the CNN architecture based on the given parameters\n",
    "        pool1 = eval(params.get(\"pool1\"))\n",
    "        pool2 = eval(params.get(\"pool2\"))\n",
    "        model = nn.Sequential(\n",
    "            nn.BatchNorm2d(3),  # Add BatchNorm2d layer to standardize input data,\n",
    "            nn.Conv2d(in_channels=3, \n",
    "                      out_channels=params.get('num_filters1'), \n",
    "                      kernel_size=params.get('filter_size1')),\n",
    "            nn.ReLU(),\n",
    "            pool1(kernel_size=params.get(\"kernel_pool1\")),\n",
    "            nn.Conv2d(in_channels=params.get('num_filters1'),\n",
    "                      out_channels=params.get('num_filters2'),\n",
    "                      kernel_size=params.get('filter_size2')),\n",
    "            nn.ReLU(),\n",
    "            pool2(kernel_size=params.get(\"kernel_pool2\")),\n",
    "            nn.Conv2d(in_channels=params.get('num_filters2'),\n",
    "                      out_channels=params.get('num_filters3'),\n",
    "                      kernel_size=params.get('filter_size3')),\n",
    "            nn.ReLU(),\n",
    "            nn.Flatten(),\n",
    "            nn.Linear(linear_input, 10)\n",
    "        )\n",
    "        return model\n",
    "        \n",
    "        \n",
    "    def fit(self, model, epochs=1):\n",
    "        # Define the loss function and optimizer\n",
    "        criterion = nn.CrossEntropyLoss()\n",
    "        optimizer = torch.optim.Adam(model.parameters())\n",
    "\n",
    "        # Train the model\n",
    "        for epoch in range(epochs):\n",
    "            print(\"Running epoch \", epoch)\n",
    "            total, correct = 0,0\n",
    "            for images, labels in self.train_loader:\n",
    "                # Forward pass\n",
    "                outputs = model(images)\n",
    "                loss = criterion(outputs, labels)\n",
    "                # Backward and optimize\n",
    "                optimizer.zero_grad()\n",
    "                loss.backward()\n",
    "                optimizer.step()\n",
    "                \n",
    "                _, predicted = torch.max(outputs.data, 1)\n",
    "                total += labels.size(0)\n",
    "                correct += (predicted == labels).sum().item()\n",
    "            accuracy = correct / total  \n",
    "            print(f\"ACC for epoch {epoch}: \", accuracy)\n",
    "        return model\n",
    "        \n",
    "class CNNPredictor:\n",
    "    def __init__(self, model):\n",
    "        self.model = model\n",
    "        \n",
    "    def predict(self, test_data):\n",
    "        # Evaluate the model on the validation set\n",
    "        data_loader = data.DataLoader(test_data, batch_size=64)\n",
    "        \n",
    "        # Calculate validation accuracy\n",
    "        correct = 0\n",
    "        total = 0\n",
    "        with torch.no_grad():\n",
    "            for images, labels in data_loader:\n",
    "                outputs = self.model(images)\n",
    "                _, predicted = torch.max(outputs.data, 1)\n",
    "                total += labels.size(0)\n",
    "                correct += (predicted == labels).sum().item()\n",
    "        accuracy = correct / total\n",
    "        return labels, accuracy\n",
    "\n",
    "\n",
    "class CNNOptimizer:\n",
    "    def __init__(self, search_space, train_data, val_data, steps=20, epochs=1):\n",
    "        self.epochs = epochs\n",
    "        self.steps = steps\n",
    "        self.search_space = search_space\n",
    "        self.train_data = train_data\n",
    "        self.val_data = val_data\n",
    "\n",
    "    def evaluate_model(self, parameterization):\n",
    "        try:\n",
    "            print(\"Testing config\", parameterization)\n",
    "            trainer = CNNTrainer(self.train_data)\n",
    "            model = trainer.build_model(parameterization) \n",
    "        except Exception as e:\n",
    "            logging.error(e)\n",
    "            return {'acc': 0} \n",
    "        \n",
    "        print(\"CONFIG Valida\")\n",
    "        model = trainer.fit(model, epochs=self.epochs)\n",
    "        predictor = CNNPredictor(model)\n",
    "        _, accuracy = predictor.predict(self.val_data)\n",
    "        print(\"ACC during eval\", accuracy)\n",
    "        # Return the validation accuracy as the objective value to optimize\n",
    "        return {'acc': accuracy}\n",
    "\n",
    "    def optimize(self):\n",
    "        \n",
    "        constraints = [\"num_filters1 <= num_filters2\",    \n",
    "                       \"num_filters2 <= num_filters3\",   \n",
    "                       \"filter_size1 >= filter_size2\",   \n",
    "                       \"filter_size2 >= filter_size3\",   \n",
    "                      ]    \n",
    "\n",
    "        best_parameters, best_values, experiment, model = optimize(\n",
    "            parameters=self.search_space,\n",
    "            evaluation_function=self.evaluate_model,\n",
    "            parameter_constraints=constraints,\n",
    "            objective_name='acc',\n",
    "            minimize=False,\n",
    "            total_trials=self.steps\n",
    "        )\n",
    "\n",
    "        print('Best parameters:', best_parameters)\n",
    "        print('Best validation accuracy:', best_values[0])\n",
    "        \n",
    "        return best_parameters, best_values, experiment, model"
   ]
  },
  {
   "cell_type": "code",
   "execution_count": 42,
   "id": "defc6187-c9e1-48a4-86fc-bee350b4005d",
   "metadata": {},
   "outputs": [
    {
     "data": {
      "text/plain": [
       "\u001b[0;31mInit signature:\u001b[0m\n",
       "\u001b[0mtorch\u001b[0m\u001b[0;34m.\u001b[0m\u001b[0moptim\u001b[0m\u001b[0;34m.\u001b[0m\u001b[0mlr_scheduler\u001b[0m\u001b[0;34m.\u001b[0m\u001b[0mMultiplicativeLR\u001b[0m\u001b[0;34m(\u001b[0m\u001b[0;34m\u001b[0m\n",
       "\u001b[0;34m\u001b[0m    \u001b[0moptimizer\u001b[0m\u001b[0;34m,\u001b[0m\u001b[0;34m\u001b[0m\n",
       "\u001b[0;34m\u001b[0m    \u001b[0mlr_lambda\u001b[0m\u001b[0;34m,\u001b[0m\u001b[0;34m\u001b[0m\n",
       "\u001b[0;34m\u001b[0m    \u001b[0mlast_epoch\u001b[0m\u001b[0;34m=\u001b[0m\u001b[0;34m-\u001b[0m\u001b[0;36m1\u001b[0m\u001b[0;34m,\u001b[0m\u001b[0;34m\u001b[0m\n",
       "\u001b[0;34m\u001b[0m    \u001b[0mverbose\u001b[0m\u001b[0;34m=\u001b[0m\u001b[0;32mFalse\u001b[0m\u001b[0;34m,\u001b[0m\u001b[0;34m\u001b[0m\n",
       "\u001b[0;34m\u001b[0m\u001b[0;34m)\u001b[0m\u001b[0;34m\u001b[0m\u001b[0;34m\u001b[0m\u001b[0m\n",
       "\u001b[0;31mDocstring:\u001b[0m     \n",
       "Multiply the learning rate of each parameter group by the factor given\n",
       "in the specified function. When last_epoch=-1, sets initial lr as lr.\n",
       "\n",
       "Args:\n",
       "    optimizer (Optimizer): Wrapped optimizer.\n",
       "    lr_lambda (function or list): A function which computes a multiplicative\n",
       "        factor given an integer parameter epoch, or a list of such\n",
       "        functions, one for each group in optimizer.param_groups.\n",
       "    last_epoch (int): The index of last epoch. Default: -1.\n",
       "    verbose (bool): If ``True``, prints a message to stdout for\n",
       "        each update. Default: ``False``.\n",
       "\n",
       "Example:\n",
       "    >>> lmbda = lambda epoch: 0.95\n",
       "    >>> scheduler = MultiplicativeLR(optimizer, lr_lambda=lmbda)\n",
       "    >>> for epoch in range(100):\n",
       "    >>>     train(...)\n",
       "    >>>     validate(...)\n",
       "    >>>     scheduler.step()\n",
       "\u001b[0;31mFile:\u001b[0m           ~/miniconda3/envs/mariner/lib/python3.8/site-packages/torch/optim/lr_scheduler.py\n",
       "\u001b[0;31mType:\u001b[0m           type\n",
       "\u001b[0;31mSubclasses:\u001b[0m     \n"
      ]
     },
     "metadata": {},
     "output_type": "display_data"
    }
   ],
   "source": [
    "torch.optim.lr_scheduler.MultiplicativeLR?"
   ]
  },
  {
   "cell_type": "code",
   "execution_count": 39,
   "id": "54d506bb-6616-43b1-9dc1-88b700490c86",
   "metadata": {},
   "outputs": [
    {
     "data": {
      "text/plain": [
       "\u001b[0;31mInit signature:\u001b[0m\n",
       "\u001b[0mtorch\u001b[0m\u001b[0;34m.\u001b[0m\u001b[0moptim\u001b[0m\u001b[0;34m.\u001b[0m\u001b[0mlr_scheduler\u001b[0m\u001b[0;34m.\u001b[0m\u001b[0mExponentialLR\u001b[0m\u001b[0;34m(\u001b[0m\u001b[0;34m\u001b[0m\n",
       "\u001b[0;34m\u001b[0m    \u001b[0moptimizer\u001b[0m\u001b[0;34m,\u001b[0m\u001b[0;34m\u001b[0m\n",
       "\u001b[0;34m\u001b[0m    \u001b[0mgamma\u001b[0m\u001b[0;34m,\u001b[0m\u001b[0;34m\u001b[0m\n",
       "\u001b[0;34m\u001b[0m    \u001b[0mlast_epoch\u001b[0m\u001b[0;34m=\u001b[0m\u001b[0;34m-\u001b[0m\u001b[0;36m1\u001b[0m\u001b[0;34m,\u001b[0m\u001b[0;34m\u001b[0m\n",
       "\u001b[0;34m\u001b[0m    \u001b[0mverbose\u001b[0m\u001b[0;34m=\u001b[0m\u001b[0;32mFalse\u001b[0m\u001b[0;34m,\u001b[0m\u001b[0;34m\u001b[0m\n",
       "\u001b[0;34m\u001b[0m\u001b[0;34m)\u001b[0m\u001b[0;34m\u001b[0m\u001b[0;34m\u001b[0m\u001b[0m\n",
       "\u001b[0;31mDocstring:\u001b[0m     \n",
       "Decays the learning rate of each parameter group by gamma every epoch.\n",
       "When last_epoch=-1, sets initial lr as lr.\n",
       "\n",
       "Args:\n",
       "    optimizer (Optimizer): Wrapped optimizer.\n",
       "    gamma (float): Multiplicative factor of learning rate decay.\n",
       "    last_epoch (int): The index of last epoch. Default: -1.\n",
       "    verbose (bool): If ``True``, prints a message to stdout for\n",
       "        each update. Default: ``False``.\n",
       "\u001b[0;31mFile:\u001b[0m           ~/miniconda3/envs/mariner/lib/python3.8/site-packages/torch/optim/lr_scheduler.py\n",
       "\u001b[0;31mType:\u001b[0m           type\n",
       "\u001b[0;31mSubclasses:\u001b[0m     \n"
      ]
     },
     "metadata": {},
     "output_type": "display_data"
    }
   ],
   "source": [
    "torch.optim.lr_scheduler.ExponentialLR?"
   ]
  },
  {
   "cell_type": "code",
   "execution_count": 28,
   "id": "fdbb701d-a09b-4e8c-bb29-d7615dc13339",
   "metadata": {},
   "outputs": [
    {
     "name": "stdout",
     "output_type": "stream",
     "text": [
      "Files already downloaded and verified\n",
      "Files already downloaded and verified\n"
     ]
    },
    {
     "name": "stderr",
     "output_type": "stream",
     "text": [
      "[INFO 03-24 18:01:19] ax.service.utils.instantiation: Inferred value type of ParameterType.STRING for parameter pool1. If that is not the expected value type, you can explicity specify 'value_type' ('int', 'float', 'bool' or 'str') in parameter dict.\n",
      "/home/isac/miniconda3/envs/mariner/lib/python3.8/site-packages/ax/core/parameter.py:492: UserWarning:\n",
      "\n",
      "`sort_values` is not specified for `ChoiceParameter` \"pool1\". Defaulting to `False` for parameters of `ParameterType` STRING. To override this behavior (or avoid this warning), specify `sort_values` during `ChoiceParameter` construction.\n",
      "\n",
      "[INFO 03-24 18:01:19] ax.service.utils.instantiation: Inferred value type of ParameterType.STRING for parameter pool2. If that is not the expected value type, you can explicity specify 'value_type' ('int', 'float', 'bool' or 'str') in parameter dict.\n",
      "/home/isac/miniconda3/envs/mariner/lib/python3.8/site-packages/ax/core/parameter.py:492: UserWarning:\n",
      "\n",
      "`sort_values` is not specified for `ChoiceParameter` \"pool2\". Defaulting to `False` for parameters of `ParameterType` STRING. To override this behavior (or avoid this warning), specify `sort_values` during `ChoiceParameter` construction.\n",
      "\n",
      "[INFO 03-24 18:01:19] ax.service.utils.instantiation: Created search space: SearchSpace(parameters=[RangeParameter(name='num_filters1', parameter_type=INT, range=[12, 32]), RangeParameter(name='filter_size1', parameter_type=INT, range=[3, 5]), RangeParameter(name='num_filters2', parameter_type=INT, range=[12, 32]), RangeParameter(name='filter_size2', parameter_type=INT, range=[3, 5]), RangeParameter(name='num_filters3', parameter_type=INT, range=[12, 32]), RangeParameter(name='filter_size3', parameter_type=INT, range=[3, 5]), ChoiceParameter(name='pool1', parameter_type=STRING, values=['nn.AvgPool2d', 'nn.MaxPool2d'], is_ordered=False, sort_values=False), ChoiceParameter(name='pool2', parameter_type=STRING, values=['nn.AvgPool2d', 'nn.MaxPool2d'], is_ordered=False, sort_values=False), RangeParameter(name='kernel_pool1', parameter_type=INT, range=[2, 3]), RangeParameter(name='kernel_pool2', parameter_type=INT, range=[2, 3])], parameter_constraints=[OrderConstraint(num_filters1 <= num_filters2), OrderConstraint(num_filters2 <= num_filters3), OrderConstraint(filter_size2 <= filter_size1), OrderConstraint(filter_size3 <= filter_size2)]).\n",
      "[INFO 03-24 18:01:19] ax.modelbridge.dispatch_utils: Using Models.GPEI since there are more ordered parameters than there are categories for the unordered categorical parameters.\n",
      "[INFO 03-24 18:01:19] ax.modelbridge.dispatch_utils: Calculating the number of remaining initialization trials based on num_initialization_trials=None max_initialization_trials=None num_tunable_parameters=10 num_trials=None use_batch_trials=False\n",
      "[INFO 03-24 18:01:19] ax.modelbridge.dispatch_utils: calculated num_initialization_trials=20\n",
      "[INFO 03-24 18:01:19] ax.modelbridge.dispatch_utils: num_completed_initialization_trials=0 num_remaining_initialization_trials=20\n",
      "[INFO 03-24 18:01:19] ax.modelbridge.dispatch_utils: Using Bayesian Optimization generation strategy: GenerationStrategy(name='Sobol+GPEI', steps=[Sobol for 20 trials, GPEI for subsequent trials]). Iterations after 20 will take longer to generate due to model-fitting.\n",
      "[INFO 03-24 18:01:19] ax.service.managed_loop: Started full optimization with 20 steps.\n",
      "[INFO 03-24 18:01:19] ax.service.managed_loop: Running optimization trial 1...\n"
     ]
    },
    {
     "name": "stdout",
     "output_type": "stream",
     "text": [
      "Testing config {'num_filters1': 19, 'filter_size1': 3, 'num_filters2': 22, 'filter_size2': 3, 'num_filters3': 31, 'filter_size3': 3, 'kernel_pool1': 2, 'kernel_pool2': 2, 'pool1': 'nn.AvgPool2d', 'pool2': 'nn.MaxPool2d'}\n",
      "CONFIG Valida\n",
      "Running epoch  0\n",
      "ACC for epoch 0:  0.3105741374769555\n",
      "Running epoch  1\n",
      "ACC for epoch 1:  0.4288253884645773\n"
     ]
    },
    {
     "name": "stderr",
     "output_type": "stream",
     "text": [
      "[INFO 03-24 18:01:32] ax.service.managed_loop: Running optimization trial 2...\n",
      "ERROR:root:Calculated padded input size per channel: (2 x 2). Kernel size: (4 x 4). Kernel size can't be greater than actual input size\n",
      "[INFO 03-24 18:01:32] ax.service.managed_loop: Running optimization trial 3...\n",
      "ERROR:root:Calculated padded input size per channel: (3 x 3). Kernel size: (4 x 4). Kernel size can't be greater than actual input size\n",
      "[INFO 03-24 18:01:32] ax.service.managed_loop: Running optimization trial 4...\n",
      "ERROR:root:Calculated padded input size per channel: (2 x 2). Kernel size: (5 x 5). Kernel size can't be greater than actual input size\n",
      "[INFO 03-24 18:01:32] ax.service.managed_loop: Running optimization trial 5...\n",
      "ERROR:root:Calculated padded input size per channel: (1 x 1). Kernel size: (5 x 5). Kernel size can't be greater than actual input size\n",
      "[INFO 03-24 18:01:32] ax.service.managed_loop: Running optimization trial 6...\n"
     ]
    },
    {
     "name": "stdout",
     "output_type": "stream",
     "text": [
      "ACC during eval 0.45773603559070686\n",
      "Testing config {'num_filters1': 14, 'filter_size1': 5, 'num_filters2': 25, 'filter_size2': 5, 'num_filters3': 31, 'filter_size3': 4, 'kernel_pool1': 3, 'kernel_pool2': 2, 'pool1': 'nn.AvgPool2d', 'pool2': 'nn.AvgPool2d'}\n",
      "Testing config {'num_filters1': 20, 'filter_size1': 5, 'num_filters2': 22, 'filter_size2': 4, 'num_filters3': 27, 'filter_size3': 4, 'kernel_pool1': 2, 'kernel_pool2': 3, 'pool1': 'nn.AvgPool2d', 'pool2': 'nn.AvgPool2d'}\n",
      "Testing config {'num_filters1': 21, 'filter_size1': 5, 'num_filters2': 21, 'filter_size2': 5, 'num_filters3': 21, 'filter_size3': 5, 'kernel_pool1': 3, 'kernel_pool2': 2, 'pool1': 'nn.MaxPool2d', 'pool2': 'nn.AvgPool2d'}\n",
      "Testing config {'num_filters1': 26, 'filter_size1': 5, 'num_filters2': 30, 'filter_size2': 5, 'num_filters3': 30, 'filter_size3': 5, 'kernel_pool1': 3, 'kernel_pool2': 3, 'pool1': 'nn.AvgPool2d', 'pool2': 'nn.MaxPool2d'}\n",
      "Testing config {'num_filters1': 16, 'filter_size1': 5, 'num_filters2': 20, 'filter_size2': 5, 'num_filters3': 31, 'filter_size3': 3, 'kernel_pool1': 2, 'kernel_pool2': 3, 'pool1': 'nn.AvgPool2d', 'pool2': 'nn.AvgPool2d'}\n",
      "CONFIG Valida\n",
      "Running epoch  0\n",
      "ACC for epoch 0:  0.2822623123518567\n",
      "Running epoch  1\n",
      "ACC for epoch 1:  0.4003818804319199\n"
     ]
    },
    {
     "name": "stderr",
     "output_type": "stream",
     "text": [
      "[INFO 03-24 18:01:50] ax.service.managed_loop: Running optimization trial 7...\n",
      "ERROR:root:Calculated padded input size per channel: (2 x 2). Kernel size: (3 x 3). Kernel size can't be greater than actual input size\n",
      "[INFO 03-24 18:01:50] ax.service.managed_loop: Running optimization trial 8...\n",
      "ERROR:root:Calculated padded input size per channel: (2 x 2). Kernel size: (4 x 4). Kernel size can't be greater than actual input size\n",
      "[INFO 03-24 18:01:50] ax.service.managed_loop: Running optimization trial 9...\n"
     ]
    },
    {
     "name": "stdout",
     "output_type": "stream",
     "text": [
      "ACC during eval 0.4122590212555611\n",
      "Testing config {'num_filters1': 17, 'filter_size1': 5, 'num_filters2': 20, 'filter_size2': 5, 'num_filters3': 30, 'filter_size3': 3, 'kernel_pool1': 3, 'kernel_pool2': 2, 'pool1': 'nn.MaxPool2d', 'pool2': 'nn.AvgPool2d'}\n",
      "Testing config {'num_filters1': 14, 'filter_size1': 5, 'num_filters2': 16, 'filter_size2': 4, 'num_filters3': 20, 'filter_size3': 4, 'kernel_pool1': 3, 'kernel_pool2': 3, 'pool1': 'nn.AvgPool2d', 'pool2': 'nn.MaxPool2d'}\n",
      "Testing config {'num_filters1': 19, 'filter_size1': 5, 'num_filters2': 28, 'filter_size2': 3, 'num_filters3': 31, 'filter_size3': 3, 'kernel_pool1': 3, 'kernel_pool2': 3, 'pool1': 'nn.MaxPool2d', 'pool2': 'nn.AvgPool2d'}\n"
     ]
    },
    {
     "name": "stderr",
     "output_type": "stream",
     "text": [
      "ERROR:root:Calculated padded input size per channel: (2 x 2). Kernel size: (3 x 3). Kernel size can't be greater than actual input size\n",
      "[INFO 03-24 18:01:50] ax.service.managed_loop: Running optimization trial 10...\n"
     ]
    },
    {
     "name": "stdout",
     "output_type": "stream",
     "text": [
      "Testing config {'num_filters1': 12, 'filter_size1': 5, 'num_filters2': 13, 'filter_size2': 4, 'num_filters3': 19, 'filter_size3': 3, 'kernel_pool1': 2, 'kernel_pool2': 3, 'pool1': 'nn.AvgPool2d', 'pool2': 'nn.AvgPool2d'}\n",
      "CONFIG Valida\n",
      "Running epoch  0\n",
      "ACC for epoch 0:  0.24209902554648408\n",
      "Running epoch  1\n",
      "ACC for epoch 1:  0.36225967869370557\n"
     ]
    },
    {
     "name": "stderr",
     "output_type": "stream",
     "text": [
      "[INFO 03-24 18:02:14] ax.service.managed_loop: Running optimization trial 11...\n"
     ]
    },
    {
     "name": "stdout",
     "output_type": "stream",
     "text": [
      "ACC during eval 0.38329214038556597\n",
      "Testing config {'num_filters1': 12, 'filter_size1': 5, 'num_filters2': 19, 'filter_size2': 3, 'num_filters3': 25, 'filter_size3': 3, 'kernel_pool1': 2, 'kernel_pool2': 2, 'pool1': 'nn.AvgPool2d', 'pool2': 'nn.MaxPool2d'}\n",
      "CONFIG Valida\n",
      "Running epoch  0\n",
      "ACC for epoch 0:  0.3078746378720042\n",
      "Running epoch  1\n",
      "ACC for epoch 1:  0.4289570713721359\n"
     ]
    },
    {
     "name": "stderr",
     "output_type": "stream",
     "text": [
      "[INFO 03-24 18:02:40] ax.service.managed_loop: Running optimization trial 12...\n",
      "ERROR:root:Calculated padded input size per channel: (2 x 2). Kernel size: (4 x 4). Kernel size can't be greater than actual input size\n",
      "[INFO 03-24 18:02:40] ax.service.managed_loop: Running optimization trial 13...\n"
     ]
    },
    {
     "name": "stdout",
     "output_type": "stream",
     "text": [
      "ACC during eval 0.4629757785467128\n",
      "Testing config {'num_filters1': 16, 'filter_size1': 5, 'num_filters2': 16, 'filter_size2': 5, 'num_filters3': 28, 'filter_size3': 4, 'kernel_pool1': 3, 'kernel_pool2': 2, 'pool1': 'nn.AvgPool2d', 'pool2': 'nn.MaxPool2d'}\n",
      "Testing config {'num_filters1': 13, 'filter_size1': 3, 'num_filters2': 19, 'filter_size2': 3, 'num_filters3': 22, 'filter_size3': 3, 'kernel_pool1': 2, 'kernel_pool2': 2, 'pool1': 'nn.AvgPool2d', 'pool2': 'nn.AvgPool2d'}\n",
      "CONFIG Valida\n",
      "Running epoch  0\n",
      "ACC for epoch 0:  0.2981301027126679\n",
      "Running epoch  1\n",
      "ACC for epoch 1:  0.40354227021332634\n"
     ]
    },
    {
     "name": "stderr",
     "output_type": "stream",
     "text": [
      "[INFO 03-24 18:03:01] ax.service.managed_loop: Running optimization trial 14...\n",
      "ERROR:root:Calculated padded input size per channel: (2 x 2). Kernel size: (4 x 4). Kernel size can't be greater than actual input size\n",
      "[INFO 03-24 18:03:01] ax.service.managed_loop: Running optimization trial 15...\n"
     ]
    },
    {
     "name": "stdout",
     "output_type": "stream",
     "text": [
      "ACC during eval 0.42995551161641127\n",
      "Testing config {'num_filters1': 16, 'filter_size1': 5, 'num_filters2': 21, 'filter_size2': 4, 'num_filters3': 21, 'filter_size3': 4, 'kernel_pool1': 3, 'kernel_pool2': 3, 'pool1': 'nn.AvgPool2d', 'pool2': 'nn.MaxPool2d'}\n"
     ]
    },
    {
     "name": "stderr",
     "output_type": "stream",
     "text": [
      "ERROR:root:Calculated padded input size per channel: (1 x 1). Kernel size: (4 x 4). Kernel size can't be greater than actual input size\n",
      "[INFO 03-24 18:03:01] ax.service.managed_loop: Running optimization trial 16...\n"
     ]
    },
    {
     "name": "stdout",
     "output_type": "stream",
     "text": [
      "Testing config {'num_filters1': 12, 'filter_size1': 5, 'num_filters2': 23, 'filter_size2': 5, 'num_filters3': 30, 'filter_size3': 4, 'kernel_pool1': 3, 'kernel_pool2': 3, 'pool1': 'nn.AvgPool2d', 'pool2': 'nn.AvgPool2d'}\n",
      "Testing config {'num_filters1': 17, 'filter_size1': 5, 'num_filters2': 21, 'filter_size2': 3, 'num_filters3': 29, 'filter_size3': 3, 'kernel_pool1': 2, 'kernel_pool2': 2, 'pool1': 'nn.MaxPool2d', 'pool2': 'nn.MaxPool2d'}\n",
      "CONFIG Valida\n",
      "Running epoch  0\n",
      "ACC for epoch 0:  0.33862259678693707\n",
      "Running epoch  1\n",
      "ACC for epoch 1:  0.45937582301817226\n"
     ]
    },
    {
     "name": "stderr",
     "output_type": "stream",
     "text": [
      "[INFO 03-24 18:03:25] ax.service.managed_loop: Running optimization trial 17...\n"
     ]
    },
    {
     "name": "stdout",
     "output_type": "stream",
     "text": [
      "ACC during eval 0.4889767671774592\n",
      "Testing config {'num_filters1': 12, 'filter_size1': 5, 'num_filters2': 17, 'filter_size2': 5, 'num_filters3': 31, 'filter_size3': 3, 'kernel_pool1': 2, 'kernel_pool2': 3, 'pool1': 'nn.AvgPool2d', 'pool2': 'nn.MaxPool2d'}\n",
      "CONFIG Valida\n",
      "Running epoch  0\n",
      "ACC for epoch 0:  0.2871345799315249\n",
      "Running epoch  1\n",
      "ACC for epoch 1:  0.41322096391888335\n"
     ]
    },
    {
     "name": "stderr",
     "output_type": "stream",
     "text": [
      "[INFO 03-24 18:03:49] ax.service.managed_loop: Running optimization trial 18...\n",
      "ERROR:root:Calculated padded input size per channel: (2 x 2). Kernel size: (3 x 3). Kernel size can't be greater than actual input size\n",
      "[INFO 03-24 18:03:49] ax.service.managed_loop: Running optimization trial 19...\n"
     ]
    },
    {
     "name": "stdout",
     "output_type": "stream",
     "text": [
      "ACC during eval 0.44092931290163123\n",
      "Testing config {'num_filters1': 15, 'filter_size1': 4, 'num_filters2': 19, 'filter_size2': 3, 'num_filters3': 21, 'filter_size3': 3, 'kernel_pool1': 3, 'kernel_pool2': 3, 'pool1': 'nn.MaxPool2d', 'pool2': 'nn.MaxPool2d'}\n"
     ]
    },
    {
     "name": "stderr",
     "output_type": "stream",
     "text": [
      "ERROR:root:Calculated padded input size per channel: (2 x 2). Kernel size: (4 x 4). Kernel size can't be greater than actual input size\n",
      "[INFO 03-24 18:03:49] ax.service.managed_loop: Running optimization trial 20...\n",
      "ERROR:root:Calculated padded input size per channel: (2 x 2). Kernel size: (4 x 4). Kernel size can't be greater than actual input size\n"
     ]
    },
    {
     "name": "stdout",
     "output_type": "stream",
     "text": [
      "Testing config {'num_filters1': 15, 'filter_size1': 5, 'num_filters2': 16, 'filter_size2': 4, 'num_filters3': 28, 'filter_size3': 4, 'kernel_pool1': 3, 'kernel_pool2': 3, 'pool1': 'nn.MaxPool2d', 'pool2': 'nn.MaxPool2d'}\n",
      "Testing config {'num_filters1': 13, 'filter_size1': 5, 'num_filters2': 15, 'filter_size2': 5, 'num_filters3': 31, 'filter_size3': 4, 'kernel_pool1': 3, 'kernel_pool2': 2, 'pool1': 'nn.AvgPool2d', 'pool2': 'nn.MaxPool2d'}\n",
      "Best parameters: {'num_filters1': 17, 'filter_size1': 5, 'num_filters2': 21, 'filter_size2': 3, 'num_filters3': 29, 'filter_size3': 3, 'kernel_pool1': 2, 'kernel_pool2': 2, 'pool1': 'nn.MaxPool2d', 'pool2': 'nn.MaxPool2d'}\n",
      "Best validation accuracy: {'acc': 0.4889767671774592}\n"
     ]
    }
   ],
   "source": [
    "import numpy as np\n",
    "import torchvision.datasets as datasets\n",
    "import torchvision.transforms as transforms\n",
    "\n",
    "# Load the CIFAR10 dataset\n",
    "train_dataset = datasets.CIFAR10(root='./data', train=True, download=True, transform=transforms.ToTensor())\n",
    "test_dataset = datasets.CIFAR10(root='./data', train=False, download=True, transform=transforms.ToTensor())\n",
    "\n",
    "# Define the search space\n",
    "\n",
    "def split_train_val(data, ptrain=0.3, pval=0.2):\n",
    "    train_mask = np.random.rand(len(data)) <= ptrain\n",
    "    val_mask = np.random.rand(len(data)) >= (1-pval)\n",
    "    index = np.array(range(len(data)))\n",
    "    train_id, test_id = index[train_mask], index[val_mask]\n",
    "    train = torch.utils.data.Subset(data, train_id)\n",
    "    test = torch.utils.data.Subset(data, test_id)\n",
    "    return train, test\n",
    "\n",
    "train, val = split_train_val(train_dataset)\n",
    "\n",
    "search_space = [\n",
    "    {\"name\": \"num_filters1\", \"type\": \"range\", \"bounds\": [12, 32], \"value_type\":\"int\"},\n",
    "    {\"name\": \"filter_size1\", \"type\": \"range\", \"bounds\": [3, 5], \"value_type\":\"int\"},\n",
    "    {\"name\": \"num_filters2\", \"type\": \"range\", \"bounds\": [12, 32], \"value_type\":\"int\"},\n",
    "    {\"name\": \"filter_size2\", \"type\": \"range\", \"bounds\": [3, 5], \"value_type\":\"int\"},\n",
    "    {\"name\": \"num_filters3\", \"type\": \"range\", \"bounds\": [12, 32], \"value_type\":\"int\"},\n",
    "    {\"name\": \"filter_size3\", \"type\": \"range\", \"bounds\": [3, 5], \"value_type\":\"int\"},\n",
    "    {\"name\": \"pool1\", \"type\": \"choice\", \"is_ordered\": False,\n",
    "     \"values\": [\"nn.AvgPool2d\", \"nn.MaxPool2d\"]},\n",
    "    {\"name\": \"pool2\", \"type\": \"choice\", \"is_ordered\": False, \n",
    "     \"values\": [\"nn.AvgPool2d\", \"nn.MaxPool2d\"]},\n",
    "    {\"name\": \"kernel_pool1\", \"type\": \"range\", \"bounds\": [2, 3], \"value_type\":\"int\"},\n",
    "    {\"name\": \"kernel_pool2\", \"type\": \"range\", \"bounds\": [2, 3], \"value_type\":\"int\"}\n",
    "\n",
    "]\n",
    "# Initialize the CNNOptimizer\n",
    "optimizer = CNNOptimizer(search_space, train, val, steps=20, epochs=2)\n",
    "\n",
    "# Run the optimization\n",
    "best_parameters, best_values, experiment, model = optimizer.optimize()\n"
   ]
  },
  {
   "cell_type": "code",
   "execution_count": 29,
   "id": "30566eb0-4449-4b71-8ecb-a13e47cb431e",
   "metadata": {},
   "outputs": [
    {
     "data": {
      "text/plain": [
       "({'num_filters1': 17,\n",
       "  'filter_size1': 5,\n",
       "  'num_filters2': 21,\n",
       "  'filter_size2': 3,\n",
       "  'num_filters3': 29,\n",
       "  'filter_size3': 3,\n",
       "  'kernel_pool1': 2,\n",
       "  'kernel_pool2': 2,\n",
       "  'pool1': 'nn.MaxPool2d',\n",
       "  'pool2': 'nn.MaxPool2d'},\n",
       " ({'acc': 0.4889767671774592}, {'acc': {'acc': nan}}))"
      ]
     },
     "execution_count": 29,
     "metadata": {},
     "output_type": "execute_result"
    }
   ],
   "source": [
    "best_parameters, best_values"
   ]
  },
  {
   "cell_type": "code",
   "execution_count": 30,
   "id": "3326a6ce-8edb-4606-b04a-2beb49b7632f",
   "metadata": {},
   "outputs": [
    {
     "data": {
      "text/html": [
       "<div>\n",
       "<style scoped>\n",
       "    .dataframe tbody tr th:only-of-type {\n",
       "        vertical-align: middle;\n",
       "    }\n",
       "\n",
       "    .dataframe tbody tr th {\n",
       "        vertical-align: top;\n",
       "    }\n",
       "\n",
       "    .dataframe thead th {\n",
       "        text-align: right;\n",
       "    }\n",
       "</style>\n",
       "<table border=\"1\" class=\"dataframe\">\n",
       "  <thead>\n",
       "    <tr style=\"text-align: right;\">\n",
       "      <th></th>\n",
       "      <th>arm_name</th>\n",
       "      <th>metric_name</th>\n",
       "      <th>mean</th>\n",
       "      <th>sem</th>\n",
       "      <th>trial_index</th>\n",
       "    </tr>\n",
       "  </thead>\n",
       "  <tbody>\n",
       "    <tr>\n",
       "      <th>0</th>\n",
       "      <td>0_0</td>\n",
       "      <td>acc</td>\n",
       "      <td>0.457736</td>\n",
       "      <td>NaN</td>\n",
       "      <td>0</td>\n",
       "    </tr>\n",
       "    <tr>\n",
       "      <th>1</th>\n",
       "      <td>1_0</td>\n",
       "      <td>acc</td>\n",
       "      <td>0.000000</td>\n",
       "      <td>NaN</td>\n",
       "      <td>1</td>\n",
       "    </tr>\n",
       "    <tr>\n",
       "      <th>2</th>\n",
       "      <td>2_0</td>\n",
       "      <td>acc</td>\n",
       "      <td>0.000000</td>\n",
       "      <td>NaN</td>\n",
       "      <td>2</td>\n",
       "    </tr>\n",
       "    <tr>\n",
       "      <th>3</th>\n",
       "      <td>3_0</td>\n",
       "      <td>acc</td>\n",
       "      <td>0.000000</td>\n",
       "      <td>NaN</td>\n",
       "      <td>3</td>\n",
       "    </tr>\n",
       "    <tr>\n",
       "      <th>4</th>\n",
       "      <td>4_0</td>\n",
       "      <td>acc</td>\n",
       "      <td>0.000000</td>\n",
       "      <td>NaN</td>\n",
       "      <td>4</td>\n",
       "    </tr>\n",
       "    <tr>\n",
       "      <th>5</th>\n",
       "      <td>5_0</td>\n",
       "      <td>acc</td>\n",
       "      <td>0.412259</td>\n",
       "      <td>NaN</td>\n",
       "      <td>5</td>\n",
       "    </tr>\n",
       "    <tr>\n",
       "      <th>6</th>\n",
       "      <td>6_0</td>\n",
       "      <td>acc</td>\n",
       "      <td>0.000000</td>\n",
       "      <td>NaN</td>\n",
       "      <td>6</td>\n",
       "    </tr>\n",
       "    <tr>\n",
       "      <th>7</th>\n",
       "      <td>7_0</td>\n",
       "      <td>acc</td>\n",
       "      <td>0.000000</td>\n",
       "      <td>NaN</td>\n",
       "      <td>7</td>\n",
       "    </tr>\n",
       "    <tr>\n",
       "      <th>8</th>\n",
       "      <td>8_0</td>\n",
       "      <td>acc</td>\n",
       "      <td>0.000000</td>\n",
       "      <td>NaN</td>\n",
       "      <td>8</td>\n",
       "    </tr>\n",
       "    <tr>\n",
       "      <th>9</th>\n",
       "      <td>9_0</td>\n",
       "      <td>acc</td>\n",
       "      <td>0.383292</td>\n",
       "      <td>NaN</td>\n",
       "      <td>9</td>\n",
       "    </tr>\n",
       "    <tr>\n",
       "      <th>10</th>\n",
       "      <td>10_0</td>\n",
       "      <td>acc</td>\n",
       "      <td>0.462976</td>\n",
       "      <td>NaN</td>\n",
       "      <td>10</td>\n",
       "    </tr>\n",
       "    <tr>\n",
       "      <th>11</th>\n",
       "      <td>11_0</td>\n",
       "      <td>acc</td>\n",
       "      <td>0.000000</td>\n",
       "      <td>NaN</td>\n",
       "      <td>11</td>\n",
       "    </tr>\n",
       "    <tr>\n",
       "      <th>12</th>\n",
       "      <td>12_0</td>\n",
       "      <td>acc</td>\n",
       "      <td>0.429956</td>\n",
       "      <td>NaN</td>\n",
       "      <td>12</td>\n",
       "    </tr>\n",
       "    <tr>\n",
       "      <th>13</th>\n",
       "      <td>13_0</td>\n",
       "      <td>acc</td>\n",
       "      <td>0.000000</td>\n",
       "      <td>NaN</td>\n",
       "      <td>13</td>\n",
       "    </tr>\n",
       "    <tr>\n",
       "      <th>14</th>\n",
       "      <td>14_0</td>\n",
       "      <td>acc</td>\n",
       "      <td>0.000000</td>\n",
       "      <td>NaN</td>\n",
       "      <td>14</td>\n",
       "    </tr>\n",
       "    <tr>\n",
       "      <th>15</th>\n",
       "      <td>15_0</td>\n",
       "      <td>acc</td>\n",
       "      <td>0.488977</td>\n",
       "      <td>NaN</td>\n",
       "      <td>15</td>\n",
       "    </tr>\n",
       "    <tr>\n",
       "      <th>16</th>\n",
       "      <td>16_0</td>\n",
       "      <td>acc</td>\n",
       "      <td>0.440929</td>\n",
       "      <td>NaN</td>\n",
       "      <td>16</td>\n",
       "    </tr>\n",
       "    <tr>\n",
       "      <th>17</th>\n",
       "      <td>17_0</td>\n",
       "      <td>acc</td>\n",
       "      <td>0.000000</td>\n",
       "      <td>NaN</td>\n",
       "      <td>17</td>\n",
       "    </tr>\n",
       "    <tr>\n",
       "      <th>18</th>\n",
       "      <td>18_0</td>\n",
       "      <td>acc</td>\n",
       "      <td>0.000000</td>\n",
       "      <td>NaN</td>\n",
       "      <td>18</td>\n",
       "    </tr>\n",
       "    <tr>\n",
       "      <th>19</th>\n",
       "      <td>19_0</td>\n",
       "      <td>acc</td>\n",
       "      <td>0.000000</td>\n",
       "      <td>NaN</td>\n",
       "      <td>19</td>\n",
       "    </tr>\n",
       "  </tbody>\n",
       "</table>\n",
       "</div>"
      ],
      "text/plain": [
       "   arm_name metric_name      mean  sem  trial_index\n",
       "0       0_0         acc  0.457736  NaN            0\n",
       "1       1_0         acc  0.000000  NaN            1\n",
       "2       2_0         acc  0.000000  NaN            2\n",
       "3       3_0         acc  0.000000  NaN            3\n",
       "4       4_0         acc  0.000000  NaN            4\n",
       "5       5_0         acc  0.412259  NaN            5\n",
       "6       6_0         acc  0.000000  NaN            6\n",
       "7       7_0         acc  0.000000  NaN            7\n",
       "8       8_0         acc  0.000000  NaN            8\n",
       "9       9_0         acc  0.383292  NaN            9\n",
       "10     10_0         acc  0.462976  NaN           10\n",
       "11     11_0         acc  0.000000  NaN           11\n",
       "12     12_0         acc  0.429956  NaN           12\n",
       "13     13_0         acc  0.000000  NaN           13\n",
       "14     14_0         acc  0.000000  NaN           14\n",
       "15     15_0         acc  0.488977  NaN           15\n",
       "16     16_0         acc  0.440929  NaN           16\n",
       "17     17_0         acc  0.000000  NaN           17\n",
       "18     18_0         acc  0.000000  NaN           18\n",
       "19     19_0         acc  0.000000  NaN           19"
      ]
     },
     "execution_count": 30,
     "metadata": {},
     "output_type": "execute_result"
    }
   ],
   "source": [
    "data = experiment.fetch_data()\n",
    "data.df"
   ]
  },
  {
   "cell_type": "code",
   "execution_count": 33,
   "id": "9ffe39f8-6dc7-4ee8-85e0-2b21d375bd35",
   "metadata": {},
   "outputs": [
    {
     "name": "stdout",
     "output_type": "stream",
     "text": [
      "Running epoch  0\n",
      "ACC for epoch 0:  0.3952618094936527\n",
      "Running epoch  1\n",
      "ACC for epoch 1:  0.5121045510809177\n",
      "Running epoch  2\n",
      "ACC for epoch 2:  0.5552836869224791\n",
      "Running epoch  3\n",
      "ACC for epoch 3:  0.5884164771582372\n",
      "Running epoch  4\n",
      "ACC for epoch 4:  0.6179222199833041\n",
      "Running epoch  5\n",
      "ACC for epoch 5:  0.6377846224704223\n",
      "Running epoch  6\n",
      "ACC for epoch 6:  0.6565243674256599\n",
      "Running epoch  7\n",
      "ACC for epoch 7:  0.6652465528656553\n",
      "Running epoch  8\n",
      "ACC for epoch 8:  0.6737096634906014\n",
      "Running epoch  9\n",
      "ACC for epoch 9:  0.687526986959901\n",
      "Running epoch  10\n",
      "ACC for epoch 10:  0.6925933388986442\n",
      "Running epoch  11\n",
      "ACC for epoch 11:  0.6970551829356055\n",
      "Running epoch  12\n",
      "ACC for epoch 12:  0.7095483462390972\n",
      "Running epoch  13\n",
      "ACC for epoch 13:  0.7131753936497884\n",
      "Running epoch  14\n",
      "ACC for epoch 14:  0.7166009384265523\n",
      "Running epoch  15\n",
      "ACC for epoch 15:  0.7194219753015343\n",
      "Running epoch  16\n",
      "ACC for epoch 16:  0.7242868246063502\n",
      "Running epoch  17\n",
      "ACC for epoch 17:  0.7296122513601427\n",
      "Running epoch  18\n",
      "ACC for epoch 18:  0.734016523215982\n",
      "Running epoch  19\n",
      "ACC for epoch 19:  0.7359164051930107\n",
      "Running epoch  20\n",
      "ACC for epoch 20:  0.7413857623996085\n",
      "Running epoch  21\n",
      "ACC for epoch 21:  0.7407812544978266\n",
      "Running epoch  22\n",
      "ACC for epoch 22:  0.7462506117044244\n",
      "Running epoch  23\n",
      "ACC for epoch 23:  0.7505397391980195\n",
      "Running epoch  24\n",
      "ACC for epoch 24:  0.7487262154926739\n",
      "Running epoch  25\n",
      "ACC for epoch 25:  0.7532744178013184\n",
      "Running epoch  26\n",
      "ACC for epoch 26:  0.7548288666916146\n",
      "Running epoch  27\n",
      "ACC for epoch 27:  0.7615648118828982\n",
      "Running epoch  28\n",
      "ACC for epoch 28:  0.7594346411813812\n",
      "Running epoch  29\n",
      "ACC for epoch 29:  0.7606148708943838\n",
      "Running epoch  30\n",
      "ACC for epoch 30:  0.7662281585537868\n",
      "Running epoch  31\n",
      "ACC for epoch 31:  0.7686461901609143\n",
      "Running epoch  32\n",
      "ACC for epoch 32:  0.7697112755116727\n",
      "Running epoch  33\n",
      "ACC for epoch 33:  0.7732231785601198\n",
      "Running epoch  34\n",
      "ACC for epoch 34:  0.7732807507412418\n",
      "Running epoch  35\n",
      "ACC for epoch 35:  0.7756699962578082\n",
      "Running epoch  36\n",
      "ACC for epoch 36:  0.7765335789746395\n",
      "Running epoch  37\n",
      "ACC for epoch 37:  0.7795849045741098\n",
      "Running epoch  38\n",
      "ACC for epoch 38:  0.7784622470422292\n",
      "Running epoch  39\n",
      "ACC for epoch 39:  0.7815711448228216\n",
      "Running epoch  40\n",
      "ACC for epoch 40:  0.7823771553585308\n",
      "Running epoch  41\n",
      "ACC for epoch 41:  0.7838164598865828\n",
      "Running epoch  42\n",
      "ACC for epoch 42:  0.7863496358559544\n",
      "Running epoch  43\n",
      "ACC for epoch 43:  0.7894873197271078\n",
      "Running epoch  44\n",
      "ACC for epoch 44:  0.7885661648291545\n",
      "Running epoch  45\n",
      "ACC for epoch 45:  0.7888540257347649\n",
      "Running epoch  46\n",
      "ACC for epoch 46:  0.7915023460663807\n",
      "Running epoch  47\n",
      "ACC for epoch 47:  0.7923371426926509\n",
      "Running epoch  48\n",
      "ACC for epoch 48:  0.7915887043380638\n",
      "Running epoch  49\n",
      "ACC for epoch 49:  0.7921644261492846\n"
     ]
    }
   ],
   "source": [
    "train, val = split_train_val(train_dataset, ptrain=0.7, pval=0.3)\n",
    "\n",
    "trainer = CNNTrainer(train)\n",
    "model = trainer.build_model(best_parameters) \n",
    "model = trainer.fit(model, epochs=50)\n"
   ]
  },
  {
   "cell_type": "code",
   "execution_count": 34,
   "id": "65c23bbe-4e00-43a0-96aa-c47d28121a1a",
   "metadata": {},
   "outputs": [],
   "source": [
    "predictor = CNNPredictor(model)\n",
    "_, accuracy = predictor.predict(val)"
   ]
  },
  {
   "cell_type": "code",
   "execution_count": 35,
   "id": "39e152a1-3bf1-4f2d-87d4-9e701713bc5a",
   "metadata": {},
   "outputs": [
    {
     "data": {
      "text/plain": [
       "0.7756534527709071"
      ]
     },
     "execution_count": 35,
     "metadata": {},
     "output_type": "execute_result"
    }
   ],
   "source": [
    "accuracy"
   ]
  },
  {
   "cell_type": "code",
   "execution_count": 240,
   "id": "26eec2a0-2613-49b9-a312-dee806a03bb0",
   "metadata": {},
   "outputs": [],
   "source": [
    "# unique, counts = np.unique(labels, return_counts=True)"
   ]
  },
  {
   "cell_type": "code",
   "execution_count": 237,
   "id": "d908cf76-4755-4cfd-8fa2-dc8ebf37bd63",
   "metadata": {},
   "outputs": [
    {
     "data": {
      "text/plain": [
       "array([1472, 1493, 1496, 1443, 1500, 1504, 1443, 1547, 1453, 1463])"
      ]
     },
     "execution_count": 237,
     "metadata": {},
     "output_type": "execute_result"
    }
   ],
   "source": [
    "counts"
   ]
  },
  {
   "cell_type": "code",
   "execution_count": null,
   "id": "9870ddef-8ff2-484e-986d-80e32611154e",
   "metadata": {},
   "outputs": [],
   "source": []
  }
 ],
 "metadata": {
  "kernelspec": {
   "display_name": "Python 3",
   "language": "python",
   "name": "python3"
  },
  "language_info": {
   "codemirror_mode": {
    "name": "ipython",
    "version": 3
   },
   "file_extension": ".py",
   "mimetype": "text/x-python",
   "name": "python",
   "nbconvert_exporter": "python",
   "pygments_lexer": "ipython3",
   "version": "3.8.12"
  }
 },
 "nbformat": 4,
 "nbformat_minor": 5
}
